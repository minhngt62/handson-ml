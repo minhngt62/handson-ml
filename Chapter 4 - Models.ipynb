{
 "cells": [
  {
   "cell_type": "markdown",
   "id": "c2b5a16a",
   "metadata": {},
   "source": [
    "# TRAINING MODELS\n",
    "*This is a notebook about ML models*"
   ]
  },
  {
   "cell_type": "markdown",
   "id": "f3a7a32a",
   "metadata": {},
   "source": [
    "## SETUP"
   ]
  },
  {
   "cell_type": "code",
   "execution_count": 1,
   "id": "bf7d7352",
   "metadata": {},
   "outputs": [],
   "source": [
    "# Python ≥3.5 is required\n",
    "import sys\n",
    "assert sys.version_info >= (3, 5)\n",
    "\n",
    "# Scikit-Learn ≥0.20 is required\n",
    "import sklearn\n",
    "assert sklearn.__version__ >= \"0.20\"\n",
    "\n",
    "# Common imports\n",
    "import numpy as np\n",
    "import os\n",
    "\n",
    "# To make this notebook's output stable across runs\n",
    "np.random.seed(42)\n",
    "\n",
    "# To plot pretty figures\n",
    "%matplotlib inline\n",
    "import matplotlib as mpl\n",
    "import matplotlib.pyplot as plt\n",
    "mpl.rc('axes', labelsize=14)\n",
    "mpl.rc('xtick', labelsize=12)\n",
    "mpl.rc('ytick', labelsize=12)\n",
    "\n",
    "# Where to save the figures\n",
    "PROJECT_ROOT_DIR = \".\"\n",
    "CHAPTER_ID = \"chapter4_models\"\n",
    "IMAGES_PATH = os.path.join(PROJECT_ROOT_DIR, \"images\", CHAPTER_ID)\n",
    "os.makedirs(IMAGES_PATH, exist_ok=True)\n",
    "\n",
    "def save_fig(fig_id, tight_layout=True, fig_extension=\"png\", resolution=300):\n",
    "    path = os.path.join(IMAGES_PATH, fig_id + \".\" + fig_extension)\n",
    "    print(\"Saving figure\", fig_id)\n",
    "    if tight_layout:\n",
    "        plt.tight_layout()\n",
    "    plt.savefig(path, format=fig_extension, dpi=resolution)"
   ]
  },
  {
   "cell_type": "code",
   "execution_count": 10,
   "id": "e6b9a7aa",
   "metadata": {},
   "outputs": [],
   "source": [
    "# Extra modules imported during the work\n",
    "from sklearn.linear_model import LinearRegression"
   ]
  },
  {
   "cell_type": "markdown",
   "id": "382b0cb6",
   "metadata": {},
   "source": [
    "## LINEAR REGRESSION"
   ]
  },
  {
   "cell_type": "markdown",
   "id": "2141bb41",
   "metadata": {},
   "source": [
    "### The Normal Equation \n",
    "*The direct “closed-form” equation*"
   ]
  },
  {
   "cell_type": "code",
   "execution_count": 3,
   "id": "83854cd2",
   "metadata": {},
   "outputs": [
    {
     "name": "stdout",
     "output_type": "stream",
     "text": [
      "Saving figure generated_data_plot\n"
     ]
    },
    {
     "data": {
      "image/png": "[encoded data removed]",
      "text/plain": [
       "<Figure size 432x288 with 1 Axes>"
      ]
     },
     "metadata": {
      "needs_background": "light"
     },
     "output_type": "display_data"
    }
   ],
   "source": [
    "# Generate linear-looking data\n",
    "X = 2 * np.random.rand(100, 1)\n",
    "y = 4 + 3 * X + np.random.randn(100, 1)\n",
    "\n",
    "# Plot data\n",
    "plt.plot(X, y, \"b.\")\n",
    "plt.xlabel(\"$x_1$\", fontsize=18)\n",
    "plt.ylabel(\"$y$\", rotation=0, fontsize=18)\n",
    "plt.axis([0, 2, 0, 15])\n",
    "save_fig(\"generated_data_plot\")\n",
    "plt.show()"
   ]
  },
  {
   "cell_type": "code",
   "execution_count": 6,
   "id": "47a401fb",
   "metadata": {},
   "outputs": [
    {
     "data": {
      "text/plain": [
       "array([[3.86501051],\n",
       "       [3.13916179]])"
      ]
     },
     "execution_count": 6,
     "metadata": {},
     "output_type": "execute_result"
    }
   ],
   "source": [
    "# Best fit directly using Normal Equation\n",
    "X_b = np.c_[np.ones((100, 1)), X] # add x0=1 to each instance\n",
    "theta_best = np.linalg.inv(X_b.T.dot(X_b)).dot(X_b.T).dot(y) # parameter vector\n",
    "theta_best"
   ]
  },
  {
   "cell_type": "markdown",
   "id": "1e19f71c",
   "metadata": {},
   "source": [
    "**Evaluate:** $\\theta_{0}=4$ and $\\theta_{1}=3$ but the noise makes it impossible to recover the exact parameters."
   ]
  },
  {
   "cell_type": "code",
   "execution_count": 7,
   "id": "1b68e4de",
   "metadata": {},
   "outputs": [
    {
     "data": {
      "text/plain": [
       "array([[ 3.86501051],\n",
       "       [10.14333409]])"
      ]
     },
     "execution_count": 7,
     "metadata": {},
     "output_type": "execute_result"
    }
   ],
   "source": [
    "# Make prediction using the \"trained\" model\n",
    "X_new = np.array([[0], [2]]) # Create two arbitrary records\n",
    "X_new_b = np.c_[np.ones((2, 1)), X_new] # add x0=1 to each instance\n",
    "y_predict = X_new_b.dot(theta_best)\n",
    "y_predict"
   ]
  },
  {
   "cell_type": "code",
   "execution_count": 9,
   "id": "62d74375",
   "metadata": {},
   "outputs": [
    {
     "name": "stdout",
     "output_type": "stream",
     "text": [
      "Saving figure linear_model_predictions_plot\n"
     ]
    },
    {
     "data": {
      "image/png": "[encoded data removed]",
      "text/plain": [
       "<Figure size 432x288 with 1 Axes>"
      ]
     },
     "metadata": {
      "needs_background": "light"
     },
     "output_type": "display_data"
    }
   ],
   "source": [
    "# Plot the model's predictions\n",
    "plt.plot(X_new, y_predict, \"r-\", linewidth=2, label=\"Predictions\")\n",
    "plt.plot(X, y, \"b.\")\n",
    "plt.xlabel(\"$x_1$\", fontsize=18)\n",
    "plt.ylabel(\"$y$\", rotation=0, fontsize=18)\n",
    "plt.legend(loc=\"upper left\", fontsize=14)\n",
    "plt.axis([0, 2, 0, 15])\n",
    "save_fig(\"linear_model_predictions_plot\")\n",
    "plt.show()"
   ]
  },
  {
   "cell_type": "code",
   "execution_count": 11,
   "id": "a23fd8fa",
   "metadata": {},
   "outputs": [
    {
     "data": {
      "text/plain": [
       "(array([3.86501051]), array([[3.13916179]]))"
      ]
     },
     "execution_count": 11,
     "metadata": {},
     "output_type": "execute_result"
    }
   ],
   "source": [
    "# Sklearn implementation of linear regression - normal equation\n",
    "lin_reg = LinearRegression()\n",
    "lin_reg.fit(X, y)\n",
    "lin_reg.intercept_, lin_reg.coef_"
   ]
  },
  {
   "cell_type": "code",
   "execution_count": 13,
   "id": "144a6802",
   "metadata": {},
   "outputs": [
    {
     "data": {
      "text/plain": [
       "array([[ 3.86501051],\n",
       "       [10.14333409]])"
      ]
     },
     "execution_count": 13,
     "metadata": {},
     "output_type": "execute_result"
    }
   ],
   "source": [
    "lin_reg.predict(X_new)"
   ]
  },
  {
   "cell_type": "markdown",
   "id": "c4d09486",
   "metadata": {},
   "source": [
    "**Remark:** `LinearRegression` class is based on the `scipy.linalg.lstsq()` function, which can be called directly."
   ]
  },
  {
   "cell_type": "code",
   "execution_count": 14,
   "id": "0e1a4239",
   "metadata": {},
   "outputs": [
    {
     "data": {
      "text/plain": [
       "array([[3.86501051],\n",
       "       [3.13916179]])"
      ]
     },
     "execution_count": 14,
     "metadata": {},
     "output_type": "execute_result"
    }
   ],
   "source": [
    "# Directly call linalg.lstsq\n",
    "theta_best_svd, residuals, rank, s = np.linalg.lstsq(X_b, y, rcond=1e6)\n",
    "theta_best_svd"
   ]
  },
  {
   "cell_type": "markdown",
   "id": "e63759d1",
   "metadata": {},
   "source": [
    "**Remark:** This function computes $X^{+}y$, where $X^{+}$ is the *pseudoinverse* of $X$ *(the Moore-Penrose inverse)* "
   ]
  },
  {
   "cell_type": "code",
   "execution_count": 15,
   "id": "6f2701bf",
   "metadata": {},
   "outputs": [
    {
     "data": {
      "text/plain": [
       "array([[3.86501051],\n",
       "       [3.13916179]])"
      ]
     },
     "execution_count": 15,
     "metadata": {},
     "output_type": "execute_result"
    }
   ],
   "source": [
    "# Compute parameter vector through pseudoinverse\n",
    "np.linalg.pinv(X_b).dot(y)"
   ]
  },
  {
   "cell_type": "markdown",
   "id": "43a75e16",
   "metadata": {},
   "source": [
    "**Evaluate:** Normal Equation may not work if the matrix $X^{T}X$ is not singular but pseudoinverse is always defined."
   ]
  },
  {
   "cell_type": "markdown",
   "id": "d86f9ecf",
   "metadata": {},
   "source": [
    "**Remark:** The pseudoinverse itself is computed using a standard matrix factorization technique called *Singular Value Decomposition (SVD)*.\n",
    "- The computational complexity of Normal Equation is $O(n^{3})$\n",
    "- The computational complexity of SVD approach is $O(n^{2})$\n",
    "\n",
    "=> Both get very slow when the number of features grows large (e.g., 100,000)\n",
    "\n",
    "However, prediction using Normal Equation is fast since computattional complexity is linear."
   ]
  },
  {
   "cell_type": "markdown",
   "id": "c23df32f",
   "metadata": {},
   "source": [
    "### Gradient Descent\n",
    "*The iterative approach*"
   ]
  },
  {
   "cell_type": "code",
   "execution_count": null,
   "id": "4d49d039",
   "metadata": {},
   "outputs": [],
   "source": []
  }
 ],
 "metadata": {
  "kernelspec": {
   "display_name": "Python 3 (ipykernel)",
   "language": "python",
   "name": "python3"
  },
  "language_info": {
   "codemirror_mode": {
    "name": "ipython",
    "version": 3
   },
   "file_extension": ".py",
   "mimetype": "text/x-python",
   "name": "python",
   "nbconvert_exporter": "python",
   "pygments_lexer": "ipython3",
   "version": "3.9.7"
  }
 },
 "nbformat": 4,
 "nbformat_minor": 5
}

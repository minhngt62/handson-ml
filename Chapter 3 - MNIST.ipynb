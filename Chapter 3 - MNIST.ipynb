{
 "cells": [
  {
   "cell_type": "markdown",
   "id": "c870080a",
   "metadata": {},
   "source": [
    "# PRACTICE: MNIST\n",
    "*This is a notebook about classification*"
   ]
  },
  {
   "cell_type": "markdown",
   "id": "37db7d8e",
   "metadata": {},
   "source": [
    "## SETUP"
   ]
  },
  {
   "cell_type": "code",
   "execution_count": 15,
   "id": "0dd8f155",
   "metadata": {},
   "outputs": [],
   "source": [
    "# Python ≥3.5 is required\n",
    "import sys\n",
    "assert sys.version_info >= (3, 5)\n",
    "\n",
    "# Scikit-Learn ≥0.20 is required\n",
    "import sklearn\n",
    "assert sklearn.__version__ >= \"0.20\"\n",
    "\n",
    "# Common imports\n",
    "import numpy as np\n",
    "import os\n",
    "\n",
    "# to make this notebook's output stable across runs\n",
    "np.random.seed(42)\n",
    "\n",
    "# To plot pretty figures\n",
    "%matplotlib inline\n",
    "import matplotlib as mpl\n",
    "import matplotlib.pyplot as plt\n",
    "mpl.rc('axes', labelsize=14)\n",
    "mpl.rc('xtick', labelsize=12)\n",
    "mpl.rc('ytick', labelsize=12)\n",
    "\n",
    "# Where to save the figures\n",
    "PROJECT_ROOT_DIR = \".\"\n",
    "CHAPTER_ID = \"chapter3_classification\"\n",
    "IMAGES_PATH = os.path.join(PROJECT_ROOT_DIR, \"images\", CHAPTER_ID)\n",
    "os.makedirs(IMAGES_PATH, exist_ok=True)\n",
    "\n",
    "def save_fig(fig_id, tight_layout=True, fig_extension=\"png\", resolution=300):\n",
    "    path = os.path.join(IMAGES_PATH, fig_id + \".\" + fig_extension)\n",
    "    print(\"Saving figure\", fig_id)\n",
    "    if tight_layout:\n",
    "        plt.tight_layout()\n",
    "    plt.savefig(path, format=fig_extension, dpi=resolution)"
   ]
  },
  {
   "cell_type": "markdown",
   "id": "0aa50092",
   "metadata": {},
   "source": [
    "## 1. LOOK AT THE BIG PICTURE\n",
    "*(performance measure, frame the problem, etc.)*"
   ]
  },
  {
   "cell_type": "markdown",
   "id": "643edd56",
   "metadata": {},
   "source": [
    "## 2. GET THE DATA"
   ]
  },
  {
   "cell_type": "markdown",
   "id": "0d3548c3",
   "metadata": {},
   "source": [
    "### Dowload the Data"
   ]
  },
  {
   "cell_type": "code",
   "execution_count": 6,
   "id": "24818d65",
   "metadata": {},
   "outputs": [
    {
     "data": {
      "text/plain": [
       "dict_keys(['data', 'target', 'frame', 'categories', 'feature_names', 'target_names', 'DESCR', 'details', 'url'])"
      ]
     },
     "execution_count": 6,
     "metadata": {},
     "output_type": "execute_result"
    }
   ],
   "source": [
    "# Fetch data (sklearn)\n",
    "from sklearn.datasets import fetch_openml\n",
    "\n",
    "mnist = fetch_openml('mnist_784', version=1, as_frame=False)\n",
    "mnist.keys()"
   ]
  },
  {
   "cell_type": "markdown",
   "id": "12641c9d",
   "metadata": {},
   "source": [
    "**Evaluate:** Datasets loaded by Sklearn generally have a similiar dictionary structure (`as_frame=False`) including:\n",
    "- A `DESCR` key describes the dataset\n",
    "- A `data` key\n",
    "- A `target` key"
   ]
  },
  {
   "cell_type": "markdown",
   "id": "a960b2c3",
   "metadata": {},
   "source": [
    "### Take a Quick Look at the Data Structure"
   ]
  },
  {
   "cell_type": "code",
   "execution_count": 7,
   "id": "b176a322",
   "metadata": {},
   "outputs": [
    {
     "data": {
      "text/plain": [
       "(70000, 784)"
      ]
     },
     "execution_count": 7,
     "metadata": {},
     "output_type": "execute_result"
    }
   ],
   "source": [
    "# Inspect the shape (1)\n",
    "X, y = mnist['data'], mnist['target']\n",
    "X.shape"
   ]
  },
  {
   "cell_type": "code",
   "execution_count": 8,
   "id": "086909c9",
   "metadata": {},
   "outputs": [
    {
     "data": {
      "text/plain": [
       "(70000,)"
      ]
     },
     "execution_count": 8,
     "metadata": {},
     "output_type": "execute_result"
    }
   ],
   "source": [
    "# Inspect the shape (2)\n",
    "y.shape"
   ]
  },
  {
   "cell_type": "markdown",
   "id": "345d1558",
   "metadata": {},
   "source": [
    "**Evaluate:** There are 70,000 images; each image has 784 features (28x28 pixels)"
   ]
  },
  {
   "cell_type": "code",
   "execution_count": 9,
   "id": "b6abe2f9",
   "metadata": {},
   "outputs": [
    {
     "name": "stdout",
     "output_type": "stream",
     "text": [
      "Saving figure some_digit_plot\n"
     ]
    },
    {
     "data": {
      "image/png": "[encoded data removed]",
      "text/plain": [
       "<Figure size 432x288 with 1 Axes>"
      ]
     },
     "metadata": {
      "needs_background": "light"
     },
     "output_type": "display_data"
    }
   ],
   "source": [
    "# Take a peek at one digit\n",
    "some_digit = X[0]\n",
    "some_digit_image = some_digit.reshape(28, 28)\n",
    "\n",
    "plt.imshow(some_digit_image, cmap=mpl.cm.binary, interpolation='nearest')\n",
    "plt.axis('off')\n",
    "\n",
    "save_fig(\"some_digit_plot\")\n",
    "plt.show()"
   ]
  },
  {
   "cell_type": "code",
   "execution_count": 10,
   "id": "3c965e3f",
   "metadata": {},
   "outputs": [
    {
     "data": {
      "text/plain": [
       "'5'"
      ]
     },
     "execution_count": 10,
     "metadata": {},
     "output_type": "execute_result"
    }
   ],
   "source": [
    "# What is its label?\n",
    "y[0]"
   ]
  },
  {
   "cell_type": "markdown",
   "id": "651ac137",
   "metadata": {},
   "source": [
    "**Evaluate:** The label is string, so y will be casted to integers."
   ]
  },
  {
   "cell_type": "code",
   "execution_count": 11,
   "id": "9c026c25",
   "metadata": {},
   "outputs": [],
   "source": [
    "# Cast the labels to integers\n",
    "y = y.astype(np.uint8)"
   ]
  },
  {
   "cell_type": "markdown",
   "id": "b44bff4c",
   "metadata": {},
   "source": [
    "### Create a Test Set"
   ]
  },
  {
   "cell_type": "markdown",
   "id": "753c181e",
   "metadata": {},
   "source": [
    "**Evaluate:** The MNIST dataset is already split into a training set (60,000 img) and a test set (10,000 img). (also shuffled)"
   ]
  },
  {
   "cell_type": "code",
   "execution_count": 14,
   "id": "b37ef7bb",
   "metadata": {},
   "outputs": [
    {
     "data": {
      "text/plain": [
       "array([5, 0, 4, ..., 5, 6, 8], dtype=uint8)"
      ]
     },
     "execution_count": 14,
     "metadata": {},
     "output_type": "execute_result"
    }
   ],
   "source": [
    "# Create test and training set\n",
    "X_train, X_test, y_train, y_test = X[:60000], X[60000:], y[:60000], y[60000:] # Numpy array\n",
    "y_train"
   ]
  },
  {
   "cell_type": "markdown",
   "id": "9cff5a79",
   "metadata": {},
   "source": [
    "## TRAINING A BINARY CLASSIFIER"
   ]
  },
  {
   "cell_type": "markdown",
   "id": "2e80c3e0",
   "metadata": {},
   "source": [
    "**Evaluate:** Instead of the identification for digits, the problem is simlified to identify just 1 digit (eg. 5), which is called binary classifier."
   ]
  },
  {
   "cell_type": "code",
   "execution_count": 19,
   "id": "db036937",
   "metadata": {},
   "outputs": [],
   "source": [
    "# Create the target vectors for 5-classification task\n",
    "y_train_5 = (y_train == 5) # True for all 5s, False otherwise\n",
    "y_test_5 = (y_test == 5)"
   ]
  },
  {
   "cell_type": "code",
   "execution_count": 20,
   "id": "edf8daff",
   "metadata": {},
   "outputs": [
    {
     "data": {
      "text/plain": [
       "SGDClassifier(random_state=42)"
      ]
     },
     "execution_count": 20,
     "metadata": {},
     "output_type": "execute_result"
    }
   ],
   "source": [
    "# Train SGD model\n",
    "from sklearn.linear_model import SGDClassifier\n",
    "\n",
    "sgd_clf = SGDClassifier(max_iter=1000, tol=1e-3, random_state=42)\n",
    "sgd_clf.fit(X_train, y_train_5)"
   ]
  },
  {
   "cell_type": "code",
   "execution_count": 21,
   "id": "8c5624ac",
   "metadata": {},
   "outputs": [
    {
     "data": {
      "text/plain": [
       "array([ True])"
      ]
     },
     "execution_count": 21,
     "metadata": {},
     "output_type": "execute_result"
    }
   ],
   "source": [
    "# Predict whether the former record is the number 5 using SGD model\n",
    "sgd_clf.predict([some_digit])"
   ]
  },
  {
   "cell_type": "markdown",
   "id": "b201fc07",
   "metadata": {},
   "source": [
    "**Evaluate:** Guess right!"
   ]
  },
  {
   "cell_type": "markdown",
   "id": "fb0df41f",
   "metadata": {},
   "source": [
    "## PERFORMANCE MEASURES"
   ]
  },
  {
   "cell_type": "markdown",
   "id": "66733597",
   "metadata": {},
   "source": [
    "**Remark:** Evaluating a classifier is often significantly trickier than evaluating a regressor, which is worth pages."
   ]
  },
  {
   "cell_type": "markdown",
   "id": "63cd5efd",
   "metadata": {},
   "source": [
    "### Measuring Accuracy Using Cross-Validation"
   ]
  },
  {
   "cell_type": "code",
   "execution_count": 23,
   "id": "a6e05f29",
   "metadata": {},
   "outputs": [
    {
     "name": "stdout",
     "output_type": "stream",
     "text": [
      "0.9669\n",
      "0.91625\n",
      "0.96785\n"
     ]
    }
   ],
   "source": [
    "# Implementing cross-validation (fuction like cross_val_score() in sklearn)\n",
    "from sklearn.model_selection import StratifiedKFold\n",
    "from sklearn.base import clone\n",
    "\n",
    "skfolds = StratifiedKFold(n_splits=3, shuffle=True, random_state=42)\n",
    "\n",
    "for train_index, test_index in skfolds.split(X_train, y_train_5):\n",
    "    clone_clf = clone(sgd_clf)\n",
    "    X_train_folds = X_train[train_index]\n",
    "    y_train_folds = y_train_5[train_index]\n",
    "    X_test_fold = X_train[test_index]\n",
    "    y_test_fold = y_train_5[test_index]\n",
    "    \n",
    "    clone_clf.fit(X_train_folds, y_train_folds)\n",
    "    y_pred = clone_clf.predict(X_test_fold)\n",
    "    n_correct = sum(y_pred == y_test_fold)\n",
    "    print(n_correct / len(y_pred))"
   ]
  },
  {
   "cell_type": "code",
   "execution_count": 24,
   "id": "8f9cd933",
   "metadata": {},
   "outputs": [
    {
     "data": {
      "text/plain": [
       "array([0.95035, 0.96035, 0.9604 ])"
      ]
     },
     "execution_count": 24,
     "metadata": {},
     "output_type": "execute_result"
    }
   ],
   "source": [
    "# K-fold cross validation on the model (sklearn)\n",
    "from sklearn.model_selection import cross_val_score\n",
    "\n",
    "cross_val_score(sgd_clf, X_train, y_train_5, cv=3, scoring='accuracy')"
   ]
  },
  {
   "cell_type": "markdown",
   "id": "fe74590a",
   "metadata": {},
   "source": [
    "**Evaluate:** Above 90% accuracy on all folds? An insight in \"not-5\" images is needed."
   ]
  },
  {
   "cell_type": "code",
   "execution_count": 25,
   "id": "f488b81e",
   "metadata": {},
   "outputs": [],
   "source": [
    "# Setup a classifier that classifies every image in the \"not-5\" class\n",
    "from sklearn.base import BaseEstimator\n",
    "\n",
    "class Never5Classifier(BaseEstimator):\n",
    "    def fit(self, X, y=None):\n",
    "        pass\n",
    "    def predict(self, X):\n",
    "        return np.zeros((len(X), 1), dtype=bool)"
   ]
  },
  {
   "cell_type": "code",
   "execution_count": 26,
   "id": "320df747",
   "metadata": {},
   "outputs": [
    {
     "data": {
      "text/plain": [
       "array([0.91125, 0.90855, 0.90915])"
      ]
     },
     "execution_count": 26,
     "metadata": {},
     "output_type": "execute_result"
    }
   ],
   "source": [
    "# K-fold cross validation on the custom model\n",
    "never_5_clf = Never5Classifier()\n",
    "cross_val_score(never_5_clf, X_train, y_train_5, cv=3, scoring=\"accuracy\")"
   ]
  },
  {
   "cell_type": "markdown",
   "id": "1c2135a8",
   "metadata": {},
   "source": [
    "**Evaluate:** This dumb model has over 90% accuracy. The reason is that only 10% of the images are 5s, which means guessing an image \"not-5\" will be right about 90% of the time => Accuracy is not preferred measure for classifier (at least with this dataset)."
   ]
  },
  {
   "cell_type": "markdown",
   "id": "6b0dc5e7",
   "metadata": {},
   "source": [
    "### Confusion Matrix"
   ]
  },
  {
   "cell_type": "code",
   "execution_count": null,
   "id": "705730b3",
   "metadata": {},
   "outputs": [],
   "source": [
    "# K-fold cross validation on SGD model\n",
    "from sklearn.model_selection import cross_val_predict\n",
    "\n",
    "y_train_pred = cross_val_predict(sgd_clf, X_train, y_train_5, cv=3) # return preditions made on each test fold"
   ]
  },
  {
   "cell_type": "code",
   "execution_count": 33,
   "id": "763f294b",
   "metadata": {},
   "outputs": [
    {
     "data": {
      "text/plain": [
       "array([[53892,   687],\n",
       "       [ 1891,  3530]], dtype=int64)"
      ]
     },
     "execution_count": 33,
     "metadata": {},
     "output_type": "execute_result"
    }
   ],
   "source": [
    "# Inspect the confusion matrix between predictions from cross-validation and the true target\n",
    "from sklearn.metrics import confusion_matrix\n",
    "\n",
    "confusion_matrix(y_train_5, y_train_pred)"
   ]
  },
  {
   "cell_type": "markdown",
   "id": "66a1f7ac",
   "metadata": {},
   "source": [
    "**Remark:** By definition a confusion matrix $C$ is such that $C_{ij}$ is equal to the number of observations known to be in group $i$ and predicted to be in group $j$. In case of binary classification:\n",
    "\n",
    "$TN$ | $FP$\n",
    "\n",
    "$FN$ | $TP$\n",
    "\n",
    "*(row as actual group; column as predicted group)*"
   ]
  },
  {
   "cell_type": "markdown",
   "id": "dd012795",
   "metadata": {},
   "source": [
    "### Precision and Recall"
   ]
  },
  {
   "cell_type": "code",
   "execution_count": 34,
   "id": "23d7047d",
   "metadata": {},
   "outputs": [
    {
     "data": {
      "text/plain": [
       "0.8370879772350012"
      ]
     },
     "execution_count": 34,
     "metadata": {},
     "output_type": "execute_result"
    }
   ],
   "source": [
    "# Compute precision of the model\n",
    "from sklearn.metrics import precision_score\n",
    "\n",
    "precision_score(y_train_5, y_train_pred)"
   ]
  },
  {
   "cell_type": "code",
   "execution_count": 35,
   "id": "22651cd0",
   "metadata": {},
   "outputs": [
    {
     "data": {
      "text/plain": [
       "0.6511713705958311"
      ]
     },
     "execution_count": 35,
     "metadata": {},
     "output_type": "execute_result"
    }
   ],
   "source": [
    "# Compute recall of the model\n",
    "from sklearn.metrics import recall_score\n",
    "\n",
    "recall_score(y_train_5, y_train_pred)"
   ]
  },
  {
   "cell_type": "markdown",
   "id": "1a2a77d9",
   "metadata": {},
   "source": [
    "**Evaluate:** When it claims an image represents a 5, it is correct only 83.7% (precision). Also, it only detects 65.1% of the 5s (recall)."
   ]
  },
  {
   "cell_type": "code",
   "execution_count": 36,
   "id": "8d1a07be",
   "metadata": {},
   "outputs": [
    {
     "data": {
      "text/plain": [
       "0.7325171197343846"
      ]
     },
     "execution_count": 36,
     "metadata": {},
     "output_type": "execute_result"
    }
   ],
   "source": [
    "# Compute the F1 score of the model\n",
    "from sklearn.metrics import f1_score\n",
    "\n",
    "f1_score(y_train_5, y_train_pred)"
   ]
  },
  {
   "cell_type": "markdown",
   "id": "f1781214",
   "metadata": {},
   "source": [
    "### Precision/Recall Tradeoff"
   ]
  },
  {
   "cell_type": "code",
   "execution_count": 37,
   "id": "9dc091c0",
   "metadata": {},
   "outputs": [
    {
     "data": {
      "text/plain": [
       "array([2164.22030239])"
      ]
     },
     "execution_count": 37,
     "metadata": {},
     "output_type": "execute_result"
    }
   ],
   "source": [
    "# Inspect in the decision function of SGD model\n",
    "y_scores = sgd_clf.decision_function([some_digit])\n",
    "y_scores"
   ]
  },
  {
   "cell_type": "markdown",
   "id": "788860b2",
   "metadata": {},
   "source": [
    "**Evaluate:** The SGD uses a threshold equal to 0, which means instance `some_digit` is predicted to be true."
   ]
  },
  {
   "cell_type": "code",
   "execution_count": 38,
   "id": "614262b3",
   "metadata": {},
   "outputs": [
    {
     "data": {
      "text/plain": [
       "array([False])"
      ]
     },
     "execution_count": 38,
     "metadata": {},
     "output_type": "execute_result"
    }
   ],
   "source": [
    "# Raise the threshold\n",
    "threshold = 8000\n",
    "y_some_digit_pred = (y_scores > threshold)\n",
    "y_some_digit_pred"
   ]
  },
  {
   "cell_type": "markdown",
   "id": "441ed5c7",
   "metadata": {},
   "source": [
    "**Evaluate:** Raising the threshold decreases recall."
   ]
  },
  {
   "cell_type": "code",
   "execution_count": 39,
   "id": "f6db716d",
   "metadata": {},
   "outputs": [
    {
     "data": {
      "text/plain": [
       "array([  1200.93051237, -26883.79202424, -33072.03475406, ...,\n",
       "        13272.12718981,  -7258.47203373, -16877.50840447])"
      ]
     },
     "execution_count": 39,
     "metadata": {},
     "output_type": "execute_result"
    }
   ],
   "source": [
    "# Get the scores of all instances in the train set\n",
    "y_scores = cross_val_predict(sgd_clf, X_train, y_train_5, cv=3,\n",
    "                             method='decision_function')\n",
    "y_scores"
   ]
  },
  {
   "cell_type": "code",
   "execution_count": 40,
   "id": "0529d975",
   "metadata": {},
   "outputs": [],
   "source": [
    "# Compute precision and recall for all possible thresholds\n",
    "from sklearn.metrics import precision_recall_curve\n",
    "\n",
    "precisions, recalls, thresholds = precision_recall_curve(y_train_5, y_scores)"
   ]
  },
  {
   "cell_type": "code",
   "execution_count": 41,
   "id": "728e27b8",
   "metadata": {},
   "outputs": [],
   "source": [
    "# Setup to plot precision and recall as functions of the threshold\n",
    "def plot_precision_recall_vs_threshold(precisions, recalls, thresholds):\n",
    "    plt.plot(thresholds, precisions[:-1], 'b--', label='Precision', lw=2)\n",
    "    plt.plot(thresholds, recalls[:-1], 'g--', label='Recall', lw=2)\n",
    "    plt.legend(loc=\"center right\", fontsize=16) \n",
    "    plt.xlabel(\"Threshold\", fontsize=16)       \n",
    "    plt.grid(True)                              \n",
    "    plt.axis([-50000, 50000, 0, 1])      "
   ]
  },
  {
   "cell_type": "code",
   "execution_count": 53,
   "id": "49f1b236",
   "metadata": {},
   "outputs": [
    {
     "name": "stdout",
     "output_type": "stream",
     "text": [
      "Saving figure precision_recall_vs_threshold_plot\n"
     ]
    },
    {
     "data": {
      "image/png": "[encoded data removed]",
      "text/plain": [
       "<Figure size 864x432 with 1 Axes>"
      ]
     },
     "metadata": {
      "needs_background": "light"
     },
     "output_type": "display_data"
    }
   ],
   "source": [
    "# Plot precision and recall as functions of the threshold\n",
    "plt.figure(figsize=(12, 6)) \n",
    "plot_precision_recall_vs_threshold(precisions, recalls, thresholds)\n",
    "\n",
    "recall_90_precision = recalls[np.argmax(precisions >= 0.90)] # recall at precision = 0.9\n",
    "threshold_90_precision = thresholds[np.argmax(precisions >= 0.90)] # threshold at precision = 0.9\n",
    "\n",
    "plt.plot([threshold_90_precision, threshold_90_precision], [0., 0.9], \"r:\") # x = threshold                \n",
    "plt.plot([-50000, threshold_90_precision], [0.9, 0.9], \"r:\") # y = precision                                \n",
    "plt.plot([-50000, threshold_90_precision], [recall_90_precision, recall_90_precision], \"r:\") # y = recall\n",
    "plt.plot([threshold_90_precision], [0.9], \"ro\") # point at x = threshold, y = precision                                              \n",
    "plt.plot([threshold_90_precision], [recall_90_precision], \"ro\") # point at x = threshold, y = recall\n",
    "\n",
    "save_fig(\"precision_recall_vs_threshold_plot\")    \n",
    "plt.show()"
   ]
  },
  {
   "cell_type": "markdown",
   "id": "899ce898",
   "metadata": {},
   "source": [
    "**Evaluate:**\n",
    "- Precision sometimes goes down when threshold increases\n",
    "- Recall can only go down when the threshold increases\n",
    "\n",
    "Based on the graph, a suitable precision/recall tradeoff is selected easily."
   ]
  },
  {
   "cell_type": "code",
   "execution_count": 54,
   "id": "7c2898be",
   "metadata": {},
   "outputs": [
    {
     "name": "stdout",
     "output_type": "stream",
     "text": [
      "Saving figure precision_vs_recall_plot\n"
     ]
    },
    {
     "data": {
      "image/png": "[encoded data removed]",
      "text/plain": [
       "<Figure size 576x432 with 1 Axes>"
      ]
     },
     "metadata": {
      "needs_background": "light"
     },
     "output_type": "display_data"
    }
   ],
   "source": [
    "# Plot precision vs recall (another way to show the tradeoff)\n",
    "def plot_precision_vs_recall(precisions, recalls):\n",
    "    plt.plot(recalls, precisions, \"b-\", linewidth=2)\n",
    "    plt.xlabel(\"Recall\", fontsize=16)\n",
    "    plt.ylabel(\"Precision\", fontsize=16)\n",
    "    plt.axis([0, 1, 0, 1])\n",
    "    plt.grid(True)\n",
    "\n",
    "plt.figure(figsize=(8, 6))\n",
    "plot_precision_vs_recall(precisions, recalls)\n",
    "plt.plot([recall_90_precision, recall_90_precision], [0., 0.9], \"r:\")\n",
    "plt.plot([0.0, recall_90_precision], [0.9, 0.9], \"r:\")\n",
    "plt.plot([recall_90_precision], [0.9], \"ro\")\n",
    "save_fig(\"precision_vs_recall_plot\")\n",
    "plt.show()"
   ]
  },
  {
   "cell_type": "markdown",
   "id": "29635b6f",
   "metadata": {},
   "source": [
    "**Remark:** Suppose to aim for 90% precision."
   ]
  },
  {
   "cell_type": "code",
   "execution_count": 57,
   "id": "4da9dd15",
   "metadata": {},
   "outputs": [],
   "source": [
    "# Predict on train set using the lowest threshold giving at least 90% precision\n",
    "threshold_90_precision = thresholds[np.argmax(precisions >= 0.9)]\n",
    "y_train_pred_90 = (y_scores >= threshold_90_precision)"
   ]
  },
  {
   "cell_type": "code",
   "execution_count": 58,
   "id": "8e5b62cb",
   "metadata": {},
   "outputs": [
    {
     "data": {
      "text/plain": [
       "0.9000345901072293"
      ]
     },
     "execution_count": 58,
     "metadata": {},
     "output_type": "execute_result"
    }
   ],
   "source": [
    "# Precision of the modified classifier\n",
    "precision_score(y_train_5, y_train_pred_90)"
   ]
  },
  {
   "cell_type": "code",
   "execution_count": 59,
   "id": "36c434f4",
   "metadata": {},
   "outputs": [
    {
     "data": {
      "text/plain": [
       "0.4799852425751706"
      ]
     },
     "execution_count": 59,
     "metadata": {},
     "output_type": "execute_result"
    }
   ],
   "source": [
    "# Recall of the modified classifier\n",
    "recall_score(y_train_5, y_train_pred_90)"
   ]
  },
  {
   "cell_type": "markdown",
   "id": "53ef1424",
   "metadata": {},
   "source": [
    "**Remark:** A high-precision classifier is not very useful if its recall is too low!"
   ]
  },
  {
   "cell_type": "markdown",
   "id": "2a54ba43",
   "metadata": {},
   "source": [
    "### The ROC Curve"
   ]
  },
  {
   "cell_type": "markdown",
   "id": "61601c2f",
   "metadata": {},
   "source": [
    "**Evaluate:** ROC curve plots sensitivity (TPR) vs 1 - specificity (FPR)"
   ]
  },
  {
   "cell_type": "code",
   "execution_count": 60,
   "id": "4df13896",
   "metadata": {},
   "outputs": [],
   "source": [
    "# Compute TPR, FPR\n",
    "from sklearn.metrics import roc_curve\n",
    "\n",
    "fpr, tpr, thresholds = roc_curve(y_train_5, y_scores)"
   ]
  },
  {
   "cell_type": "code",
   "execution_count": 63,
   "id": "409d7c2c",
   "metadata": {},
   "outputs": [],
   "source": [
    "# Setup to plot ROC curve\n",
    "def plot_roc_curve(fpr, tpr, label=None):\n",
    "    plt.plot(fpr, tpr, lw=2, label=label)\n",
    "    plt.plot([0, 1], [0, 1], 'k--') # dashed diagonal\n",
    "    plt.axis([0, 1, 0, 1])                                    \n",
    "    plt.xlabel('False Positive Rate (Fall-Out)', fontsize=16) \n",
    "    plt.ylabel('True Positive Rate (Recall)', fontsize=16)    \n",
    "    plt.grid(True)"
   ]
  },
  {
   "cell_type": "code",
   "execution_count": 64,
   "id": "09a1aac3",
   "metadata": {},
   "outputs": [
    {
     "name": "stdout",
     "output_type": "stream",
     "text": [
      "Saving figure roc_curve_plot\n"
     ]
    },
    {
     "data": {
      "image/png": "[encoded data removed]",
      "text/plain": [
       "<Figure size 864x648 with 1 Axes>"
      ]
     },
     "metadata": {
      "needs_background": "light"
     },
     "output_type": "display_data"
    }
   ],
   "source": [
    "# Plot ROC curve\n",
    "plt.figure(figsize=(12, 9))                                    \n",
    "plot_roc_curve(fpr, tpr)\n",
    "fpr_90 = fpr[np.argmax(tpr >= recall_90_precision)]          \n",
    "plt.plot([fpr_90, fpr_90], [0., recall_90_precision], \"r:\")   \n",
    "plt.plot([0.0, fpr_90], [recall_90_precision, recall_90_precision], \"r:\")  \n",
    "plt.plot([fpr_90], [recall_90_precision], \"ro\")               \n",
    "save_fig(\"roc_curve_plot\")                                    \n",
    "plt.show()"
   ]
  },
  {
   "cell_type": "markdown",
   "id": "93756e1a",
   "metadata": {},
   "source": [
    "**Evaluate:**\n",
    "- Tradeoff between TPR and FPR\n",
    "- A good classifier stays as far away from the dashed line as possible (toward the top-left corner)"
   ]
  },
  {
   "cell_type": "code",
   "execution_count": 65,
   "id": "6df23e6c",
   "metadata": {},
   "outputs": [
    {
     "data": {
      "text/plain": [
       "0.9604938554008616"
      ]
     },
     "execution_count": 65,
     "metadata": {},
     "output_type": "execute_result"
    }
   ],
   "source": [
    "# Compute ROC AUC\n",
    "from sklearn.metrics import roc_auc_score\n",
    "\n",
    "roc_auc_score(y_train_5, y_scores)"
   ]
  },
  {
   "cell_type": "markdown",
   "id": "3439660e",
   "metadata": {},
   "source": [
    "**Remark:** A perfect classifier will have ROC AUC equal to 1. (that is 0.5 for purely random classifier)"
   ]
  },
  {
   "cell_type": "markdown",
   "id": "65a108d7",
   "metadata": {},
   "source": [
    "**Remark:** PR is prefered whenever either:\n",
    "- The positive class is rare\n",
    "- The care is about the FP than FN."
   ]
  },
  {
   "cell_type": "code",
   "execution_count": 66,
   "id": "6e460e27",
   "metadata": {},
   "outputs": [],
   "source": [
    "# Train a Random Forest model\n",
    "from sklearn.ensemble import RandomForestClassifier\n",
    "\n",
    "forest_clf = RandomForestClassifier(random_state=42)\n",
    "y_probas_forest = cross_val_predict(forest_clf, X_train, y_train_5, cv=3,\n",
    "                                    method='predict_proba')"
   ]
  },
  {
   "cell_type": "code",
   "execution_count": 67,
   "id": "d1ab7b6f",
   "metadata": {},
   "outputs": [],
   "source": [
    "# Invent scores as positive class's probability\n",
    "y_scores_forest = y_probas_forest[:, 1]\n",
    "fpr_forest, tpr_forest, thresholds_forest = roc_curve(y_train_5, y_scores_forest)"
   ]
  },
  {
   "cell_type": "code",
   "execution_count": 74,
   "id": "b553e0d1",
   "metadata": {},
   "outputs": [
    {
     "name": "stdout",
     "output_type": "stream",
     "text": [
      "Saving figure roc_curve_comparison_plot\n"
     ]
    },
    {
     "data": {
      "image/png": "[encoded data removed]",
      "text/plain": [
       "<Figure size 864x648 with 1 Axes>"
      ]
     },
     "metadata": {
      "needs_background": "light"
     },
     "output_type": "display_data"
    }
   ],
   "source": [
    "# Plot ROC curve and comparison\n",
    "recall_for_forest = tpr_forest[np.argmax(fpr_forest >= fpr_90)]\n",
    "\n",
    "plt.figure(figsize=(12, 9)) \n",
    "plt.plot(fpr, tpr, \"b:\", label=\"SGD\")\n",
    "plot_roc_curve(fpr_forest, tpr_forest, \"Random Forest\")\n",
    "plt.plot([fpr_90, fpr_90], [0., recall_90_precision], \"r:\")\n",
    "plt.plot([0.0, fpr_90], [recall_90_precision, recall_90_precision], \"r:\")\n",
    "plt.plot([fpr_90], [recall_90_precision], \"ro\")\n",
    "plt.plot([fpr_90, fpr_90], [0., recall_for_forest], \"r:\")\n",
    "plt.plot([fpr_90], [recall_for_forest], \"ro\")\n",
    "plt.grid(True)\n",
    "plt.legend(loc=\"lower right\")\n",
    "save_fig(\"roc_curve_comparison_plot\")\n",
    "plt.show()"
   ]
  },
  {
   "cell_type": "markdown",
   "id": "a82a8a3b",
   "metadata": {},
   "source": [
    "**Evaluate:** Intuitively, Random Forest is better than SGD in ROC curve."
   ]
  },
  {
   "cell_type": "code",
   "execution_count": 75,
   "id": "ff7e19dc",
   "metadata": {},
   "outputs": [
    {
     "data": {
      "text/plain": [
       "0.9983436731328145"
      ]
     },
     "execution_count": 75,
     "metadata": {},
     "output_type": "execute_result"
    }
   ],
   "source": [
    "# Compute ROC AUC for Random Forest model\n",
    "roc_auc_score(y_train_5, y_scores_forest)"
   ]
  },
  {
   "cell_type": "code",
   "execution_count": 76,
   "id": "bfa6c6fd",
   "metadata": {},
   "outputs": [
    {
     "data": {
      "text/plain": [
       "0.9905083315756169"
      ]
     },
     "execution_count": 76,
     "metadata": {},
     "output_type": "execute_result"
    }
   ],
   "source": [
    "# Precision of Random Forest model\n",
    "y_train_pred_forest = cross_val_predict(forest_clf, X_train, y_train_5, cv=3)\n",
    "precision_score(y_train_5, y_train_pred_forest)"
   ]
  },
  {
   "cell_type": "code",
   "execution_count": 77,
   "id": "ffdfc732",
   "metadata": {},
   "outputs": [
    {
     "data": {
      "text/plain": [
       "0.8662608374838591"
      ]
     },
     "execution_count": 77,
     "metadata": {},
     "output_type": "execute_result"
    }
   ],
   "source": [
    "# Recall of Random Forest model\n",
    "recall_score(y_train_5, y_train_pred_forest)"
   ]
  },
  {
   "cell_type": "markdown",
   "id": "3f318f33",
   "metadata": {},
   "source": [
    "## Multiclass Classiication"
   ]
  },
  {
   "cell_type": "code",
   "execution_count": null,
   "id": "33ffe50c",
   "metadata": {},
   "outputs": [],
   "source": []
  }
 ],
 "metadata": {
  "kernelspec": {
   "display_name": "Python 3 (ipykernel)",
   "language": "python",
   "name": "python3"
  },
  "language_info": {
   "codemirror_mode": {
    "name": "ipython",
    "version": 3
   },
   "file_extension": ".py",
   "mimetype": "text/x-python",
   "name": "python",
   "nbconvert_exporter": "python",
   "pygments_lexer": "ipython3",
   "version": "3.9.7"
  }
 },
 "nbformat": 4,
 "nbformat_minor": 5
}

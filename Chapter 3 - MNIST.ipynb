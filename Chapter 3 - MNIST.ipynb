{
 "cells": [
  {
   "cell_type": "markdown",
   "id": "939f4a7d",
   "metadata": {},
   "source": [
    "# PRACTICE: MNIST\n",
    "*This is a notebook about classification*"
   ]
  },
  {
   "cell_type": "markdown",
   "id": "3e6f8d72",
   "metadata": {},
   "source": [
    "## SETUP"
   ]
  },
  {
   "cell_type": "code",
   "execution_count": 15,
   "id": "883efc66",
   "metadata": {},
   "outputs": [],
   "source": [
    "# Python ≥3.5 is required\n",
    "import sys\n",
    "assert sys.version_info >= (3, 5)\n",
    "\n",
    "# Scikit-Learn ≥0.20 is required\n",
    "import sklearn\n",
    "assert sklearn.__version__ >= \"0.20\"\n",
    "\n",
    "# Common imports\n",
    "import numpy as np\n",
    "import os\n",
    "\n",
    "# to make this notebook's output stable across runs\n",
    "np.random.seed(42)\n",
    "\n",
    "# To plot pretty figures\n",
    "%matplotlib inline\n",
    "import matplotlib as mpl\n",
    "import matplotlib.pyplot as plt\n",
    "mpl.rc('axes', labelsize=14)\n",
    "mpl.rc('xtick', labelsize=12)\n",
    "mpl.rc('ytick', labelsize=12)\n",
    "\n",
    "# Where to save the figures\n",
    "PROJECT_ROOT_DIR = \".\"\n",
    "CHAPTER_ID = \"chapter3_classification\"\n",
    "IMAGES_PATH = os.path.join(PROJECT_ROOT_DIR, \"images\", CHAPTER_ID)\n",
    "os.makedirs(IMAGES_PATH, exist_ok=True)\n",
    "\n",
    "def save_fig(fig_id, tight_layout=True, fig_extension=\"png\", resolution=300):\n",
    "    path = os.path.join(IMAGES_PATH, fig_id + \".\" + fig_extension)\n",
    "    print(\"Saving figure\", fig_id)\n",
    "    if tight_layout:\n",
    "        plt.tight_layout()\n",
    "    plt.savefig(path, format=fig_extension, dpi=resolution)"
   ]
  },
  {
   "cell_type": "markdown",
   "id": "cf554801",
   "metadata": {},
   "source": [
    "## 1. LOOK AT THE BIG PICTURE\n",
    "*(performance measure, frame the problem, etc.)*"
   ]
  },
  {
   "cell_type": "markdown",
   "id": "a4f19e86",
   "metadata": {},
   "source": [
    "## 2. GET THE DATA"
   ]
  },
  {
   "cell_type": "markdown",
   "id": "2c1fdd77",
   "metadata": {},
   "source": [
    "### Dowload the Data"
   ]
  },
  {
   "cell_type": "code",
   "execution_count": 6,
   "id": "4911bfa6",
   "metadata": {},
   "outputs": [
    {
     "data": {
      "text/plain": [
       "dict_keys(['data', 'target', 'frame', 'categories', 'feature_names', 'target_names', 'DESCR', 'details', 'url'])"
      ]
     },
     "execution_count": 6,
     "metadata": {},
     "output_type": "execute_result"
    }
   ],
   "source": [
    "# Fetch data (sklearn)\n",
    "from sklearn.datasets import fetch_openml\n",
    "\n",
    "mnist = fetch_openml('mnist_784', version=1, as_frame=False)\n",
    "mnist.keys()"
   ]
  },
  {
   "cell_type": "markdown",
   "id": "8c8f9a81",
   "metadata": {},
   "source": [
    "**Evaluate:** Datasets loaded by Sklearn generally have a similiar dictionary structure (`as_frame=False`) including:\n",
    "- A `DESCR` key describes the dataset\n",
    "- A `data` key\n",
    "- A `target` key"
   ]
  },
  {
   "cell_type": "markdown",
   "id": "09e6de65",
   "metadata": {},
   "source": [
    "### Take a Quick Look at the Data Structure"
   ]
  },
  {
   "cell_type": "code",
   "execution_count": 7,
   "id": "ea148a6a",
   "metadata": {},
   "outputs": [
    {
     "data": {
      "text/plain": [
       "(70000, 784)"
      ]
     },
     "execution_count": 7,
     "metadata": {},
     "output_type": "execute_result"
    }
   ],
   "source": [
    "# Inspect the shape (1)\n",
    "X, y = mnist['data'], mnist['target']\n",
    "X.shape"
   ]
  },
  {
   "cell_type": "code",
   "execution_count": 8,
   "id": "d5ddcfe7",
   "metadata": {},
   "outputs": [
    {
     "data": {
      "text/plain": [
       "(70000,)"
      ]
     },
     "execution_count": 8,
     "metadata": {},
     "output_type": "execute_result"
    }
   ],
   "source": [
    "# Inspect the shape (2)\n",
    "y.shape"
   ]
  },
  {
   "cell_type": "markdown",
   "id": "0e8dd1c8",
   "metadata": {},
   "source": [
    "**Evaluate:** There are 70,000 images; each image has 784 features (28x28 pixels)"
   ]
  },
  {
   "cell_type": "code",
   "execution_count": 9,
   "id": "67fe95c8",
   "metadata": {},
   "outputs": [
    {
     "name": "stdout",
     "output_type": "stream",
     "text": [
      "Saving figure some_digit_plot\n"
     ]
    },
    {
     "data": {
      "image/png": "[encoded data removed]",
      "text/plain": [
       "<Figure size 432x288 with 1 Axes>"
      ]
     },
     "metadata": {
      "needs_background": "light"
     },
     "output_type": "display_data"
    }
   ],
   "source": [
    "# Take a peek at one digit\n",
    "some_digit = X[0]\n",
    "some_digit_image = some_digit.reshape(28, 28)\n",
    "\n",
    "plt.imshow(some_digit_image, cmap=mpl.cm.binary, interpolation='nearest')\n",
    "plt.axis('off')\n",
    "\n",
    "save_fig(\"some_digit_plot\")\n",
    "plt.show()"
   ]
  },
  {
   "cell_type": "code",
   "execution_count": 10,
   "id": "77a82ddc",
   "metadata": {},
   "outputs": [
    {
     "data": {
      "text/plain": [
       "'5'"
      ]
     },
     "execution_count": 10,
     "metadata": {},
     "output_type": "execute_result"
    }
   ],
   "source": [
    "# What is its label?\n",
    "y[0]"
   ]
  },
  {
   "cell_type": "markdown",
   "id": "fb2342b4",
   "metadata": {},
   "source": [
    "**Evaluate:** The label is string, so y will be casted to integers."
   ]
  },
  {
   "cell_type": "code",
   "execution_count": 11,
   "id": "5e2f93cb",
   "metadata": {},
   "outputs": [],
   "source": [
    "# Cast the labels to integers\n",
    "y = y.astype(np.uint8)"
   ]
  },
  {
   "cell_type": "markdown",
   "id": "e22daece",
   "metadata": {},
   "source": [
    "### Create a Test Set"
   ]
  },
  {
   "cell_type": "markdown",
   "id": "dbfd44f2",
   "metadata": {},
   "source": [
    "**Evaluate:** The MNIST dataset is already split into a training set (60,000 img) and a test set (10,000 img). (also shuffled)"
   ]
  },
  {
   "cell_type": "code",
   "execution_count": 14,
   "id": "975e53d7",
   "metadata": {},
   "outputs": [
    {
     "data": {
      "text/plain": [
       "array([5, 0, 4, ..., 5, 6, 8], dtype=uint8)"
      ]
     },
     "execution_count": 14,
     "metadata": {},
     "output_type": "execute_result"
    }
   ],
   "source": [
    "# Create test and training set\n",
    "X_train, X_test, y_train, y_test = X[:60000], X[60000:], y[:60000], y[60000:] # Numpy array\n",
    "y_train"
   ]
  },
  {
   "cell_type": "markdown",
   "id": "befb1a64",
   "metadata": {},
   "source": [
    "## TRAINING A BINARY CLASSIFIER"
   ]
  },
  {
   "cell_type": "markdown",
   "id": "b5898de5",
   "metadata": {},
   "source": [
    "**Evaluate:** Instead of the identification for digits, the problem is simlified to identify just 1 digit (eg. 5), which is called binary classifier."
   ]
  },
  {
   "cell_type": "code",
   "execution_count": 19,
   "id": "5379a653",
   "metadata": {},
   "outputs": [],
   "source": [
    "# Create the target vectors for 5-classification task\n",
    "y_train_5 = (y_train == 5) # True for all 5s, False otherwise\n",
    "y_test_5 = (y_test == 5)"
   ]
  },
  {
   "cell_type": "code",
   "execution_count": 20,
   "id": "53cf7c3a",
   "metadata": {},
   "outputs": [
    {
     "data": {
      "text/plain": [
       "SGDClassifier(random_state=42)"
      ]
     },
     "execution_count": 20,
     "metadata": {},
     "output_type": "execute_result"
    }
   ],
   "source": [
    "# Train SGD model\n",
    "from sklearn.linear_model import SGDClassifier\n",
    "\n",
    "sgd_clf = SGDClassifier(max_iter=1000, tol=1e-3, random_state=42)\n",
    "sgd_clf.fit(X_train, y_train_5)"
   ]
  },
  {
   "cell_type": "code",
   "execution_count": 21,
   "id": "ab88324f",
   "metadata": {},
   "outputs": [
    {
     "data": {
      "text/plain": [
       "array([ True])"
      ]
     },
     "execution_count": 21,
     "metadata": {},
     "output_type": "execute_result"
    }
   ],
   "source": [
    "# Predict whether the former record is the number 5 using SGD model\n",
    "sgd_clf.predict([some_digit])"
   ]
  },
  {
   "cell_type": "markdown",
   "id": "24a6248e",
   "metadata": {},
   "source": [
    "**Evaluate:** Guess right!"
   ]
  },
  {
   "cell_type": "markdown",
   "id": "87510b41",
   "metadata": {},
   "source": [
    "## PERFORMANCE MEASURES"
   ]
  },
  {
   "cell_type": "markdown",
   "id": "73f0bf32",
   "metadata": {},
   "source": [
    "**Remark:** Evaluating a classifier is often significantly trickier than evaluating a regressor, which is worth pages."
   ]
  },
  {
   "cell_type": "markdown",
   "id": "f7ea3415",
   "metadata": {},
   "source": [
    "### Measuring Accuracy Using Cross-Validation"
   ]
  },
  {
   "cell_type": "code",
   "execution_count": 23,
   "id": "ed38a699",
   "metadata": {},
   "outputs": [
    {
     "name": "stdout",
     "output_type": "stream",
     "text": [
      "0.9669\n",
      "0.91625\n",
      "0.96785\n"
     ]
    }
   ],
   "source": [
    "# Implementing cross-validation (fuction like cross_val_score() in sklearn)\n",
    "from sklearn.model_selection import StratifiedKFold\n",
    "from sklearn.base import clone\n",
    "\n",
    "skfolds = StratifiedKFold(n_splits=3, shuffle=True, random_state=42)\n",
    "\n",
    "for train_index, test_index in skfolds.split(X_train, y_train_5):\n",
    "    clone_clf = clone(sgd_clf)\n",
    "    X_train_folds = X_train[train_index]\n",
    "    y_train_folds = y_train_5[train_index]\n",
    "    X_test_fold = X_train[test_index]\n",
    "    y_test_fold = y_train_5[test_index]\n",
    "    \n",
    "    clone_clf.fit(X_train_folds, y_train_folds)\n",
    "    y_pred = clone_clf.predict(X_test_fold)\n",
    "    n_correct = sum(y_pred == y_test_fold)\n",
    "    print(n_correct / len(y_pred))"
   ]
  },
  {
   "cell_type": "code",
   "execution_count": 24,
   "id": "65c46d8c",
   "metadata": {},
   "outputs": [
    {
     "data": {
      "text/plain": [
       "array([0.95035, 0.96035, 0.9604 ])"
      ]
     },
     "execution_count": 24,
     "metadata": {},
     "output_type": "execute_result"
    }
   ],
   "source": [
    "# K-fold cross validation on the model (sklearn)\n",
    "from sklearn.model_selection import cross_val_score\n",
    "\n",
    "cross_val_score(sgd_clf, X_train, y_train_5, cv=3, scoring='accuracy')"
   ]
  },
  {
   "cell_type": "markdown",
   "id": "c419e1e8",
   "metadata": {},
   "source": [
    "**Evaluate:** Above 90% accuracy on all folds? An insight in \"not-5\" images is needed."
   ]
  },
  {
   "cell_type": "code",
   "execution_count": 25,
   "id": "17c4f8fa",
   "metadata": {},
   "outputs": [],
   "source": [
    "# Setup a classifier that classifies every image in the \"not-5\" class\n",
    "from sklearn.base import BaseEstimator\n",
    "\n",
    "class Never5Classifier(BaseEstimator):\n",
    "    def fit(self, X, y=None):\n",
    "        pass\n",
    "    def predict(self, X):\n",
    "        return np.zeros((len(X), 1), dtype=bool)"
   ]
  },
  {
   "cell_type": "code",
   "execution_count": 26,
   "id": "d907383d",
   "metadata": {},
   "outputs": [
    {
     "data": {
      "text/plain": [
       "array([0.91125, 0.90855, 0.90915])"
      ]
     },
     "execution_count": 26,
     "metadata": {},
     "output_type": "execute_result"
    }
   ],
   "source": [
    "# K-fold cross validation on the custom model\n",
    "never_5_clf = Never5Classifier()\n",
    "cross_val_score(never_5_clf, X_train, y_train_5, cv=3, scoring=\"accuracy\")"
   ]
  },
  {
   "cell_type": "markdown",
   "id": "fcf1a857",
   "metadata": {},
   "source": [
    "**Evaluate:** This dumb model has over 90% accuracy. The reason is that only 10% of the images are 5s, which means guessing an image \"not-5\" will be right about 90% of the time => Accuracy is not preferred measure for classifier (at least with this dataset)."
   ]
  },
  {
   "cell_type": "markdown",
   "id": "4e5b84ba",
   "metadata": {},
   "source": [
    "### Confusion Matrix"
   ]
  },
  {
   "cell_type": "code",
   "execution_count": null,
   "id": "5cf1a407",
   "metadata": {},
   "outputs": [],
   "source": []
  }
 ],
 "metadata": {
  "kernelspec": {
   "display_name": "Python 3 (ipykernel)",
   "language": "python",
   "name": "python3"
  },
  "language_info": {
   "codemirror_mode": {
    "name": "ipython",
    "version": 3
   },
   "file_extension": ".py",
   "mimetype": "text/x-python",
   "name": "python",
   "nbconvert_exporter": "python",
   "pygments_lexer": "ipython3",
   "version": "3.9.7"
  }
 },
 "nbformat": 4,
 "nbformat_minor": 5
}

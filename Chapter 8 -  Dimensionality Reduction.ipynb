{
 "cells": [
  {
   "cell_type": "markdown",
   "id": "746affa2",
   "metadata": {},
   "source": [
    "#  Dimensionality Reduction\n",
    "*This is a notebook about Dimensionality Reduction*"
   ]
  },
  {
   "cell_type": "markdown",
   "id": "b7527a23",
   "metadata": {},
   "source": [
    "## SETUP"
   ]
  },
  {
   "cell_type": "code",
   "execution_count": 1,
   "id": "fb05b541",
   "metadata": {},
   "outputs": [],
   "source": [
    "# Python ≥3.5 is required\n",
    "import sys\n",
    "assert sys.version_info >= (3, 5)\n",
    "\n",
    "# Scikit-Learn ≥0.20 is required\n",
    "import sklearn\n",
    "assert sklearn.__version__ >= \"0.20\"\n",
    "\n",
    "# Common imports\n",
    "import numpy as np\n",
    "import os\n",
    "\n",
    "# To make this notebook's output stable across runs\n",
    "np.random.seed(42)\n",
    "\n",
    "# To plot pretty figures\n",
    "%matplotlib inline\n",
    "import matplotlib as mpl\n",
    "import matplotlib.pyplot as plt\n",
    "mpl.rc('axes', labelsize=14)\n",
    "mpl.rc('xtick', labelsize=12)\n",
    "mpl.rc('ytick', labelsize=12)\n",
    "\n",
    "# Where to save the figures\n",
    "PROJECT_ROOT_DIR = \".\"\n",
    "CHAPTER_ID = \"chapter8_dim_reduction\"\n",
    "IMAGES_PATH = os.path.join(PROJECT_ROOT_DIR, \"images\", CHAPTER_ID)\n",
    "os.makedirs(IMAGES_PATH, exist_ok=True)\n",
    "\n",
    "def save_fig(fig_id, tight_layout=True, fig_extension=\"png\", resolution=300):\n",
    "    path = os.path.join(IMAGES_PATH, fig_id + \".\" + fig_extension)\n",
    "    print(\"Saving figure\", fig_id)\n",
    "    if tight_layout:\n",
    "        plt.tight_layout()\n",
    "    plt.savefig(path, format=fig_extension, dpi=resolution)"
   ]
  },
  {
   "cell_type": "code",
   "execution_count": 9,
   "id": "61815f18",
   "metadata": {},
   "outputs": [],
   "source": [
    "# Extra modules imported during the work\n",
    "from sklearn.decomposition import PCA"
   ]
  },
  {
   "cell_type": "markdown",
   "id": "b5b74af1",
   "metadata": {},
   "source": [
    "## PCA"
   ]
  },
  {
   "cell_type": "code",
   "execution_count": 3,
   "id": "eb2b1ea9",
   "metadata": {},
   "outputs": [],
   "source": [
    "# Build a simple 3D dataset\n",
    "np.random.seed(4)\n",
    "m = 60\n",
    "w1, w2 = 0.1, 0.3\n",
    "noise = 0.1\n",
    "\n",
    "angles = np.random.rand(m) * 3 * np.pi / 2 - 0.5\n",
    "X = np.empty((m, 3))\n",
    "X[:, 0] = np.cos(angles) + np.sin(angles)/2 + noise * np.random.randn(m) / 2\n",
    "X[:, 1] = np.sin(angles) * 0.7 + noise * np.random.randn(m) / 2\n",
    "X[:, 2] = X[:, 0] * w1 + X[:, 1] * w2 + noise * np.random.randn(m)"
   ]
  },
  {
   "cell_type": "markdown",
   "id": "a50d27d4",
   "metadata": {},
   "source": [
    "### Preserving the Variance\n"
   ]
  },
  {
   "cell_type": "markdown",
   "id": "dde0a72b",
   "metadata": {},
   "source": [
    "### Principal Components"
   ]
  },
  {
   "cell_type": "code",
   "execution_count": 5,
   "id": "006a7a53",
   "metadata": {},
   "outputs": [],
   "source": [
    "# Find the principal components using Singular Value Decomposition (SVD)\n",
    "X_centered = X - X.mean(axis=0)\n",
    "U, s, Vt = np.linalg.svd(X_centered)\n",
    "c1 = Vt.T[:, 0] # 1st principal component\n",
    "c2 = Vt.T[:, 1] # 2nd principal component"
   ]
  },
  {
   "cell_type": "markdown",
   "id": "610afd73",
   "metadata": {},
   "source": [
    "**Remark:** PCA assumes that the dataset is centered around the origin, which means the data should be centered before PCA implementation (sklearn will take care of it automatically)."
   ]
  },
  {
   "cell_type": "code",
   "execution_count": 6,
   "id": "a56006ea",
   "metadata": {},
   "outputs": [
    {
     "data": {
      "text/plain": [
       "array([0.93636116, 0.29854881, 0.18465208])"
      ]
     },
     "execution_count": 6,
     "metadata": {},
     "output_type": "execute_result"
    }
   ],
   "source": [
    "# 1st principal component\n",
    "c1"
   ]
  },
  {
   "cell_type": "code",
   "execution_count": 7,
   "id": "28950bde",
   "metadata": {},
   "outputs": [
    {
     "data": {
      "text/plain": [
       "array([-0.34027485,  0.90119108,  0.2684542 ])"
      ]
     },
     "execution_count": 7,
     "metadata": {},
     "output_type": "execute_result"
    }
   ],
   "source": [
    "# 2nd principal component\n",
    "c2"
   ]
  },
  {
   "cell_type": "markdown",
   "id": "194d7a45",
   "metadata": {},
   "source": [
    "### Projecting Down to d Dimensions"
   ]
  },
  {
   "cell_type": "code",
   "execution_count": 11,
   "id": "c2be50b3",
   "metadata": {},
   "outputs": [],
   "source": [
    "W2 = Vt.T[:, :2]\n",
    "X2D = X_centered.dot(W2) # X in 2D plane using SVD\n",
    "X2D_custom = X2D"
   ]
  },
  {
   "cell_type": "markdown",
   "id": "2b01de60",
   "metadata": {},
   "source": [
    "### Using Scikit-Learn"
   ]
  },
  {
   "cell_type": "code",
   "execution_count": 12,
   "id": "088e4617",
   "metadata": {},
   "outputs": [
    {
     "data": {
      "text/plain": [
       "array([[ 1.26203346,  0.42067648],\n",
       "       [-0.08001485, -0.35272239],\n",
       "       [ 1.17545763,  0.36085729],\n",
       "       [ 0.89305601, -0.30862856],\n",
       "       [ 0.73016287, -0.25404049]])"
      ]
     },
     "execution_count": 12,
     "metadata": {},
     "output_type": "execute_result"
    }
   ],
   "source": [
    "# Implement PCA using SVD on the 3D dataset (sklearn)\n",
    "pca = PCA(n_components=2)\n",
    "X2D = pca.fit_transform(X) # automatically takes care of centering data\n",
    "X2D[:5]"
   ]
  },
  {
   "cell_type": "code",
   "execution_count": 14,
   "id": "a022481e",
   "metadata": {},
   "outputs": [
    {
     "data": {
      "text/plain": [
       "array([[-1.26203346, -0.42067648],\n",
       "       [ 0.08001485,  0.35272239],\n",
       "       [-1.17545763, -0.36085729],\n",
       "       [-0.89305601,  0.30862856],\n",
       "       [-0.73016287,  0.25404049]])"
      ]
     },
     "execution_count": 14,
     "metadata": {},
     "output_type": "execute_result"
    }
   ],
   "source": [
    "# Compare with the customized one\n",
    "X2D_custom[:5]"
   ]
  },
  {
   "cell_type": "markdown",
   "id": "2b8a1d3b",
   "metadata": {},
   "source": [
    "**Remark:** Notice that running PCA multiple times on slightly different datasets may result in different results. In general the only difference is that some axes may be *flipped*. In this example, **PCA using Scikit-Learn gives the same projection as the one given by the SVD approach**, except both axes are flipped."
   ]
  },
  {
   "cell_type": "code",
   "execution_count": 16,
   "id": "ef634f8c",
   "metadata": {},
   "outputs": [
    {
     "data": {
      "text/plain": [
       "True"
      ]
     },
     "execution_count": 16,
     "metadata": {},
     "output_type": "execute_result"
    }
   ],
   "source": [
    "# Compare the results\n",
    "np.allclose(X2D, -X2D_custom)"
   ]
  },
  {
   "cell_type": "code",
   "execution_count": 18,
   "id": "5fd8869b",
   "metadata": {},
   "outputs": [
    {
     "data": {
      "text/plain": [
       "array([[-1.01450604, -0.54656333, -0.27441525],\n",
       "       [-0.02103231,  0.55108376,  0.18101894],\n",
       "       [-0.95379477, -0.4668077 , -0.24237013],\n",
       "       [-0.91717404,  0.22083765, -0.01049779],\n",
       "       [-0.74607229,  0.22027492,  0.00492637]])"
      ]
     },
     "execution_count": 18,
     "metadata": {},
     "output_type": "execute_result"
    }
   ],
   "source": [
    "# Recover the 3D points projected on the plane from PCA 2D subspace \n",
    "X3D_inv = pca.inverse_transform(X2D)\n",
    "X3D_inv[:5]"
   ]
  },
  {
   "cell_type": "code",
   "execution_count": 19,
   "id": "c5393952",
   "metadata": {},
   "outputs": [
    {
     "data": {
      "text/plain": [
       "False"
      ]
     },
     "execution_count": 19,
     "metadata": {},
     "output_type": "execute_result"
    }
   ],
   "source": [
    "# Compare the inverse transform to the origin\n",
    "np.allclose(X3D_inv, X)"
   ]
  },
  {
   "cell_type": "markdown",
   "id": "dc9efa10",
   "metadata": {},
   "source": [
    "**Evaluate:** Some loss of information during the projection step is observed."
   ]
  },
  {
   "cell_type": "code",
   "execution_count": 20,
   "id": "3adda00e",
   "metadata": {},
   "outputs": [
    {
     "data": {
      "text/plain": [
       "0.010170337792848549"
      ]
     },
     "execution_count": 20,
     "metadata": {},
     "output_type": "execute_result"
    }
   ],
   "source": [
    "# Compute the reconstruction error\n",
    "np.mean(np.sum(np.square(X3D_inv - X), axis=1))"
   ]
  },
  {
   "cell_type": "code",
   "execution_count": 21,
   "id": "cf8cb870",
   "metadata": {},
   "outputs": [
    {
     "data": {
      "text/plain": [
       "array([[-0.93636116, -0.29854881, -0.18465208],\n",
       "       [ 0.34027485, -0.90119108, -0.2684542 ]])"
      ]
     },
     "execution_count": 21,
     "metadata": {},
     "output_type": "execute_result"
    }
   ],
   "source": [
    "# Access to the principal components computed \n",
    "pca.components_ "
   ]
  },
  {
   "cell_type": "markdown",
   "id": "2b0a4c27",
   "metadata": {},
   "source": [
    "**Remark:** PCs are expressed as horizontal vectors."
   ]
  },
  {
   "cell_type": "markdown",
   "id": "b9c51eb2",
   "metadata": {},
   "source": [
    "### Explained Variance Ratio"
   ]
  },
  {
   "cell_type": "code",
   "execution_count": 22,
   "id": "aab32dc3",
   "metadata": {},
   "outputs": [
    {
     "data": {
      "text/plain": [
       "array([0.84248607, 0.14631839])"
      ]
     },
     "execution_count": 22,
     "metadata": {},
     "output_type": "execute_result"
    }
   ],
   "source": [
    "# Inspect the explained variance ratios of the 3D dataset\n",
    "pca.explained_variance_ratio_"
   ]
  },
  {
   "cell_type": "markdown",
   "id": "b866458b",
   "metadata": {},
   "source": [
    "**Evaluate:** \n",
    "- 84.2% of the dataset’s variance lies along the first axis\n",
    "- 14.6% lies along the second axis\n",
    "- 1.1% for the third axis (Resonable to assume that this axis probably carries little information"
   ]
  },
  {
   "cell_type": "code",
   "execution_count": 23,
   "id": "0c79689d",
   "metadata": {},
   "outputs": [
    {
     "data": {
      "text/plain": [
       "0.011195535570688975"
      ]
     },
     "execution_count": 23,
     "metadata": {},
     "output_type": "execute_result"
    }
   ],
   "source": [
    "# Compute the loss of variance by projecting down to 2D\n",
    "1 - pca.explained_variance_ratio_.sum() # 1.1%"
   ]
  }
 ],
 "metadata": {
  "kernelspec": {
   "display_name": "Python 3 (ipykernel)",
   "language": "python",
   "name": "python3"
  },
  "language_info": {
   "codemirror_mode": {
    "name": "ipython",
    "version": 3
   },
   "file_extension": ".py",
   "mimetype": "text/x-python",
   "name": "python",
   "nbconvert_exporter": "python",
   "pygments_lexer": "ipython3",
   "version": "3.9.7"
  }
 },
 "nbformat": 4,
 "nbformat_minor": 5
}

{
 "cells": [
  {
   "cell_type": "markdown",
   "id": "c8fe277a",
   "metadata": {},
   "source": [
    "#  Dimensionality Reduction\n",
    "*This is a notebook about Dimensionality Reduction*"
   ]
  },
  {
   "cell_type": "markdown",
   "id": "2cf9af42",
   "metadata": {},
   "source": [
    "## SETUP"
   ]
  },
  {
   "cell_type": "code",
   "execution_count": 1,
   "id": "bf99d06d",
   "metadata": {},
   "outputs": [],
   "source": [
    "# Python ≥3.5 is required\n",
    "import sys\n",
    "assert sys.version_info >= (3, 5)\n",
    "\n",
    "# Scikit-Learn ≥0.20 is required\n",
    "import sklearn\n",
    "assert sklearn.__version__ >= \"0.20\"\n",
    "\n",
    "# Common imports\n",
    "import numpy as np\n",
    "import os\n",
    "\n",
    "# To make this notebook's output stable across runs\n",
    "np.random.seed(42)\n",
    "\n",
    "# To plot pretty figures\n",
    "%matplotlib inline\n",
    "import matplotlib as mpl\n",
    "import matplotlib.pyplot as plt\n",
    "mpl.rc('axes', labelsize=14)\n",
    "mpl.rc('xtick', labelsize=12)\n",
    "mpl.rc('ytick', labelsize=12)\n",
    "\n",
    "# Where to save the figures\n",
    "PROJECT_ROOT_DIR = \".\"\n",
    "CHAPTER_ID = \"chapter8_dim_reduction\"\n",
    "IMAGES_PATH = os.path.join(PROJECT_ROOT_DIR, \"images\", CHAPTER_ID)\n",
    "os.makedirs(IMAGES_PATH, exist_ok=True)\n",
    "\n",
    "def save_fig(fig_id, tight_layout=True, fig_extension=\"png\", resolution=300):\n",
    "    path = os.path.join(IMAGES_PATH, fig_id + \".\" + fig_extension)\n",
    "    print(\"Saving figure\", fig_id)\n",
    "    if tight_layout:\n",
    "        plt.tight_layout()\n",
    "    plt.savefig(path, format=fig_extension, dpi=resolution)"
   ]
  },
  {
   "cell_type": "code",
   "execution_count": 24,
   "id": "48d53c31",
   "metadata": {},
   "outputs": [],
   "source": [
    "# Extra modules imported during the work\n",
    "from sklearn.decomposition import PCA\n",
    "from sklearn.datasets import fetch_openml\n",
    "from sklearn.model_selection import train_test_split"
   ]
  },
  {
   "cell_type": "markdown",
   "id": "f6facbb9",
   "metadata": {},
   "source": [
    "## PCA"
   ]
  },
  {
   "cell_type": "code",
   "execution_count": 3,
   "id": "95dadcdb",
   "metadata": {},
   "outputs": [],
   "source": [
    "# Build a simple 3D dataset\n",
    "np.random.seed(4)\n",
    "m = 60\n",
    "w1, w2 = 0.1, 0.3\n",
    "noise = 0.1\n",
    "\n",
    "angles = np.random.rand(m) * 3 * np.pi / 2 - 0.5\n",
    "X = np.empty((m, 3))\n",
    "X[:, 0] = np.cos(angles) + np.sin(angles)/2 + noise * np.random.randn(m) / 2\n",
    "X[:, 1] = np.sin(angles) * 0.7 + noise * np.random.randn(m) / 2\n",
    "X[:, 2] = X[:, 0] * w1 + X[:, 1] * w2 + noise * np.random.randn(m)"
   ]
  },
  {
   "cell_type": "markdown",
   "id": "b2784228",
   "metadata": {},
   "source": [
    "### Preserving the Variance\n"
   ]
  },
  {
   "cell_type": "markdown",
   "id": "32519ce2",
   "metadata": {},
   "source": [
    "### Principal Components"
   ]
  },
  {
   "cell_type": "code",
   "execution_count": 5,
   "id": "2000857a",
   "metadata": {},
   "outputs": [],
   "source": [
    "# Find the principal components using Singular Value Decomposition (SVD)\n",
    "X_centered = X - X.mean(axis=0)\n",
    "U, s, Vt = np.linalg.svd(X_centered)\n",
    "c1 = Vt.T[:, 0] # 1st principal component\n",
    "c2 = Vt.T[:, 1] # 2nd principal component"
   ]
  },
  {
   "cell_type": "markdown",
   "id": "4ab25aa1",
   "metadata": {},
   "source": [
    "**Remark:** PCA assumes that the dataset is centered around the origin, which means the data should be centered before PCA implementation (sklearn will take care of it automatically)."
   ]
  },
  {
   "cell_type": "code",
   "execution_count": 6,
   "id": "d2ace0d0",
   "metadata": {},
   "outputs": [
    {
     "data": {
      "text/plain": [
       "array([0.93636116, 0.29854881, 0.18465208])"
      ]
     },
     "execution_count": 6,
     "metadata": {},
     "output_type": "execute_result"
    }
   ],
   "source": [
    "# 1st principal component\n",
    "c1"
   ]
  },
  {
   "cell_type": "code",
   "execution_count": 7,
   "id": "663cb47f",
   "metadata": {},
   "outputs": [
    {
     "data": {
      "text/plain": [
       "array([-0.34027485,  0.90119108,  0.2684542 ])"
      ]
     },
     "execution_count": 7,
     "metadata": {},
     "output_type": "execute_result"
    }
   ],
   "source": [
    "# 2nd principal component\n",
    "c2"
   ]
  },
  {
   "cell_type": "markdown",
   "id": "95725152",
   "metadata": {},
   "source": [
    "### Projecting Down to d Dimensions"
   ]
  },
  {
   "cell_type": "code",
   "execution_count": 11,
   "id": "146a4000",
   "metadata": {},
   "outputs": [],
   "source": [
    "W2 = Vt.T[:, :2]\n",
    "X2D = X_centered.dot(W2) # X in 2D plane using SVD\n",
    "X2D_custom = X2D"
   ]
  },
  {
   "cell_type": "markdown",
   "id": "6a27edfe",
   "metadata": {},
   "source": [
    "### Using Scikit-Learn"
   ]
  },
  {
   "cell_type": "code",
   "execution_count": 12,
   "id": "7b431ade",
   "metadata": {},
   "outputs": [
    {
     "data": {
      "text/plain": [
       "array([[ 1.26203346,  0.42067648],\n",
       "       [-0.08001485, -0.35272239],\n",
       "       [ 1.17545763,  0.36085729],\n",
       "       [ 0.89305601, -0.30862856],\n",
       "       [ 0.73016287, -0.25404049]])"
      ]
     },
     "execution_count": 12,
     "metadata": {},
     "output_type": "execute_result"
    }
   ],
   "source": [
    "# Implement PCA using SVD on the 3D dataset (sklearn)\n",
    "pca = PCA(n_components=2)\n",
    "X2D = pca.fit_transform(X) # automatically takes care of centering data\n",
    "X2D[:5]"
   ]
  },
  {
   "cell_type": "code",
   "execution_count": 14,
   "id": "e91ce553",
   "metadata": {},
   "outputs": [
    {
     "data": {
      "text/plain": [
       "array([[-1.26203346, -0.42067648],\n",
       "       [ 0.08001485,  0.35272239],\n",
       "       [-1.17545763, -0.36085729],\n",
       "       [-0.89305601,  0.30862856],\n",
       "       [-0.73016287,  0.25404049]])"
      ]
     },
     "execution_count": 14,
     "metadata": {},
     "output_type": "execute_result"
    }
   ],
   "source": [
    "# Compare with the customized one\n",
    "X2D_custom[:5]"
   ]
  },
  {
   "cell_type": "markdown",
   "id": "e15675c0",
   "metadata": {},
   "source": [
    "**Remark:** Notice that running PCA multiple times on slightly different datasets may result in different results. In general the only difference is that some axes may be *flipped*. In this example, **PCA using Scikit-Learn gives the same projection as the one given by the SVD approach**, except both axes are flipped."
   ]
  },
  {
   "cell_type": "code",
   "execution_count": 16,
   "id": "641eff08",
   "metadata": {},
   "outputs": [
    {
     "data": {
      "text/plain": [
       "True"
      ]
     },
     "execution_count": 16,
     "metadata": {},
     "output_type": "execute_result"
    }
   ],
   "source": [
    "# Compare the results\n",
    "np.allclose(X2D, -X2D_custom)"
   ]
  },
  {
   "cell_type": "code",
   "execution_count": 18,
   "id": "24dd184a",
   "metadata": {},
   "outputs": [
    {
     "data": {
      "text/plain": [
       "array([[-1.01450604, -0.54656333, -0.27441525],\n",
       "       [-0.02103231,  0.55108376,  0.18101894],\n",
       "       [-0.95379477, -0.4668077 , -0.24237013],\n",
       "       [-0.91717404,  0.22083765, -0.01049779],\n",
       "       [-0.74607229,  0.22027492,  0.00492637]])"
      ]
     },
     "execution_count": 18,
     "metadata": {},
     "output_type": "execute_result"
    }
   ],
   "source": [
    "# Recover the 3D points projected on the plane from PCA 2D subspace \n",
    "X3D_inv = pca.inverse_transform(X2D)\n",
    "X3D_inv[:5]"
   ]
  },
  {
   "cell_type": "code",
   "execution_count": 19,
   "id": "872f430a",
   "metadata": {},
   "outputs": [
    {
     "data": {
      "text/plain": [
       "False"
      ]
     },
     "execution_count": 19,
     "metadata": {},
     "output_type": "execute_result"
    }
   ],
   "source": [
    "# Compare the inverse transform to the origin\n",
    "np.allclose(X3D_inv, X)"
   ]
  },
  {
   "cell_type": "markdown",
   "id": "c6c48134",
   "metadata": {},
   "source": [
    "**Evaluate:** Some loss of information during the projection step is observed."
   ]
  },
  {
   "cell_type": "code",
   "execution_count": 20,
   "id": "9ec8332d",
   "metadata": {},
   "outputs": [
    {
     "data": {
      "text/plain": [
       "0.010170337792848549"
      ]
     },
     "execution_count": 20,
     "metadata": {},
     "output_type": "execute_result"
    }
   ],
   "source": [
    "# Compute the reconstruction error\n",
    "np.mean(np.sum(np.square(X3D_inv - X), axis=1))"
   ]
  },
  {
   "cell_type": "code",
   "execution_count": 21,
   "id": "00c33da8",
   "metadata": {},
   "outputs": [
    {
     "data": {
      "text/plain": [
       "array([[-0.93636116, -0.29854881, -0.18465208],\n",
       "       [ 0.34027485, -0.90119108, -0.2684542 ]])"
      ]
     },
     "execution_count": 21,
     "metadata": {},
     "output_type": "execute_result"
    }
   ],
   "source": [
    "# Access to the principal components computed \n",
    "pca.components_ "
   ]
  },
  {
   "cell_type": "markdown",
   "id": "5fe8f1ca",
   "metadata": {},
   "source": [
    "**Remark:** PCs are expressed as horizontal vectors."
   ]
  },
  {
   "cell_type": "markdown",
   "id": "36cb4f7b",
   "metadata": {},
   "source": [
    "### Explained Variance Ratio"
   ]
  },
  {
   "cell_type": "code",
   "execution_count": 22,
   "id": "313ed7aa",
   "metadata": {},
   "outputs": [
    {
     "data": {
      "text/plain": [
       "array([0.84248607, 0.14631839])"
      ]
     },
     "execution_count": 22,
     "metadata": {},
     "output_type": "execute_result"
    }
   ],
   "source": [
    "# Inspect the explained variance ratios of the 3D dataset\n",
    "pca.explained_variance_ratio_"
   ]
  },
  {
   "cell_type": "markdown",
   "id": "02476c28",
   "metadata": {},
   "source": [
    "**Evaluate:** \n",
    "- 84.2% of the dataset’s variance lies along the first axis\n",
    "- 14.6% lies along the second axis\n",
    "- 1.1% for the third axis (Resonable to assume that this axis probably carries little information"
   ]
  },
  {
   "cell_type": "code",
   "execution_count": 23,
   "id": "5b566e70",
   "metadata": {},
   "outputs": [
    {
     "data": {
      "text/plain": [
       "0.011195535570688975"
      ]
     },
     "execution_count": 23,
     "metadata": {},
     "output_type": "execute_result"
    }
   ],
   "source": [
    "# Compute the loss of variance by projecting down to 2D\n",
    "1 - pca.explained_variance_ratio_.sum() # 1.1%"
   ]
  },
  {
   "cell_type": "markdown",
   "id": "068474c8",
   "metadata": {},
   "source": [
    "### Choosing the Right Number of Dimensions"
   ]
  },
  {
   "cell_type": "code",
   "execution_count": 25,
   "id": "ae54186d",
   "metadata": {},
   "outputs": [],
   "source": [
    "# Load MNIST dataset\n",
    "mnist = fetch_openml('mnist_784', version=1, as_frame=False)\n",
    "mnist.target = mnist.target.astype(np.uint8)"
   ]
  },
  {
   "cell_type": "code",
   "execution_count": 26,
   "id": "a5d97917",
   "metadata": {},
   "outputs": [],
   "source": [
    "# Split MNIST dataset\n",
    "X = mnist[\"data\"]\n",
    "y = mnist[\"target\"]\n",
    "\n",
    "X_train, X_test, y_train, y_test = train_test_split(X, y)"
   ]
  },
  {
   "cell_type": "code",
   "execution_count": 27,
   "id": "62db2d51",
   "metadata": {},
   "outputs": [
    {
     "data": {
      "text/plain": [
       "154"
      ]
     },
     "execution_count": 27,
     "metadata": {},
     "output_type": "execute_result"
    }
   ],
   "source": [
    "# Compute the minimum number of dimensions required to preserve 95% of the training set’s variance\n",
    "pca = PCA()\n",
    "pca.fit(X_train)\n",
    "cumsum = np.cumsum(pca.explained_variance_ratio_)\n",
    "d = np.argmax(cumsum >= 0.95) + 1\n",
    "d"
   ]
  },
  {
   "cell_type": "code",
   "execution_count": 28,
   "id": "b5db085d",
   "metadata": {},
   "outputs": [
    {
     "data": {
      "text/plain": [
       "154"
      ]
     },
     "execution_count": 28,
     "metadata": {},
     "output_type": "execute_result"
    }
   ],
   "source": [
    "# Compute the minimum number of dimensions (but easier)\n",
    "pca = PCA(n_components=0.95)\n",
    "X_reduced = pca.fit_transform(X_train)\n",
    "pca.n_components_"
   ]
  },
  {
   "cell_type": "code",
   "execution_count": 29,
   "id": "3a1b223d",
   "metadata": {},
   "outputs": [
    {
     "data": {
      "text/plain": [
       "0.9503684424557428"
      ]
     },
     "execution_count": 29,
     "metadata": {},
     "output_type": "execute_result"
    }
   ],
   "source": [
    "# Check the sum of the explained variance ratio\n",
    "np.sum(pca.explained_variance_ratio_)"
   ]
  },
  {
   "cell_type": "code",
   "execution_count": 30,
   "id": "f94f2153",
   "metadata": {},
   "outputs": [
    {
     "name": "stdout",
     "output_type": "stream",
     "text": [
      "Saving figure explained_variance_plot\n"
     ]
    },
    {
     "data": {
      "image/png": "[encoded data removed]",
      "text/plain": [
       "<Figure size 432x288 with 1 Axes>"
      ]
     },
     "metadata": {
      "needs_background": "light"
     },
     "output_type": "display_data"
    }
   ],
   "source": [
    "# Plot explained variance ratio as a function of the number of dimensions\n",
    "plt.figure(figsize=(6,4))\n",
    "plt.plot(cumsum, linewidth=3)\n",
    "plt.axis([0, 400, 0, 1])\n",
    "plt.xlabel(\"Dimensions\")\n",
    "plt.ylabel(\"Explained Variance\")\n",
    "plt.plot([d, d], [0, 0.95], \"k:\")\n",
    "plt.plot([0, d], [0.95, 0.95], \"k:\")\n",
    "plt.plot(d, 0.95, \"ko\")\n",
    "plt.annotate(\"Elbow\", xy=(65, 0.85), xytext=(70, 0.7),\n",
    "             arrowprops=dict(arrowstyle=\"->\"), fontsize=16)\n",
    "plt.grid(True)\n",
    "save_fig(\"explained_variance_plot\")\n",
    "plt.show()"
   ]
  },
  {
   "cell_type": "code",
   "execution_count": null,
   "id": "d96b8a2f",
   "metadata": {},
   "outputs": [],
   "source": []
  }
 ],
 "metadata": {
  "kernelspec": {
   "display_name": "Python 3 (ipykernel)",
   "language": "python",
   "name": "python3"
  },
  "language_info": {
   "codemirror_mode": {
    "name": "ipython",
    "version": 3
   },
   "file_extension": ".py",
   "mimetype": "text/x-python",
   "name": "python",
   "nbconvert_exporter": "python",
   "pygments_lexer": "ipython3",
   "version": "3.9.7"
  }
 },
 "nbformat": 4,
 "nbformat_minor": 5
}
